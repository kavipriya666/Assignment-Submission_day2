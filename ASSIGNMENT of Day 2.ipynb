{
 "cells": [
  {
   "cell_type": "markdown",
   "metadata": {},
   "source": [
    "1. Five different functions of strings in python"
   ]
  },
  {
   "cell_type": "code",
   "execution_count": 1,
   "metadata": {},
   "outputs": [
    {
     "data": {
      "text/plain": [
       "True"
      ]
     },
     "execution_count": 1,
     "metadata": {},
     "output_type": "execute_result"
    }
   ],
   "source": [
    "Text=\"hi, this is kavipriya\"\n",
    "Text.islower()"
   ]
  },
  {
   "cell_type": "code",
   "execution_count": 2,
   "metadata": {},
   "outputs": [
    {
     "data": {
      "text/plain": [
       "('This is my time in letsupgrade ', 'and', ' i love this session')"
      ]
     },
     "execution_count": 2,
     "metadata": {},
     "output_type": "execute_result"
    }
   ],
   "source": [
    "a=\"This is my time in letsupgrade and i love this session\"\n",
    "a.rpartition(\"and\")"
   ]
  },
  {
   "cell_type": "code",
   "execution_count": 3,
   "metadata": {},
   "outputs": [
    {
     "data": {
      "text/plain": [
       "14"
      ]
     },
     "execution_count": 3,
     "metadata": {},
     "output_type": "execute_result"
    }
   ],
   "source": [
    "text = \"Hi, I am from Tamil Nadu.\"\n",
    "text.rfind(\"Tamil\")"
   ]
  },
  {
   "cell_type": "code",
   "execution_count": 4,
   "metadata": {},
   "outputs": [
    {
     "data": {
      "text/plain": [
       "'00020'"
      ]
     },
     "execution_count": 4,
     "metadata": {},
     "output_type": "execute_result"
    }
   ],
   "source": [
    "number = \"20\"\n",
    "number.zfill(5)"
   ]
  },
  {
   "cell_type": "code",
   "execution_count": 5,
   "metadata": {},
   "outputs": [
    {
     "name": "stdout",
     "output_type": "stream",
     "text": [
      "False\n",
      "True\n"
     ]
    }
   ],
   "source": [
    "text=(\"assignment\")\n",
    "text2=(\"189370917\")\n",
    "print(text.isnumeric())\n",
    "print(text2.isnumeric())"
   ]
  },
  {
   "cell_type": "markdown",
   "metadata": {},
   "source": [
    "2. Five different functions of lists in python"
   ]
  },
  {
   "cell_type": "code",
   "execution_count": 7,
   "metadata": {},
   "outputs": [
    {
     "name": "stdout",
     "output_type": "stream",
     "text": [
      "3\n"
     ]
    }
   ],
   "source": [
    "chocolates=[\"Dairy milk\",\"Kitkat\",\"5star\",\"Snickers\",\"Milky bar\"]\n",
    "index=chocolates.index(\"Snickers\")\n",
    "print (index)"
   ]
  },
  {
   "cell_type": "code",
   "execution_count": 8,
   "metadata": {},
   "outputs": [
    {
     "name": "stdout",
     "output_type": "stream",
     "text": [
      "['Dairy milk', 'Kitkat', '5star', 'Snickers', 'Milky bar', 'Bounty', 'Bournville']\n"
     ]
    }
   ],
   "source": [
    "chocolates1=[\"Bounty\",\"Bournville\"]\n",
    "chocolates.extend(chocolates1)\n",
    "print(chocolates)"
   ]
  },
  {
   "cell_type": "code",
   "execution_count": 9,
   "metadata": {},
   "outputs": [
    {
     "name": "stdout",
     "output_type": "stream",
     "text": [
      "['Dairy milk', 'Kitkat', '5star', 'Snickers', 'Milky bar', 'Bournville']\n"
     ]
    }
   ],
   "source": [
    "chocolates.remove(\"Bounty\")\n",
    "print(chocolates)\n"
   ]
  },
  {
   "cell_type": "code",
   "execution_count": 10,
   "metadata": {},
   "outputs": [
    {
     "data": {
      "text/plain": [
       "'Milky bar'"
      ]
     },
     "execution_count": 10,
     "metadata": {},
     "output_type": "execute_result"
    }
   ],
   "source": [
    "chocolates.pop(4)"
   ]
  },
  {
   "cell_type": "code",
   "execution_count": 11,
   "metadata": {},
   "outputs": [
    {
     "name": "stdout",
     "output_type": "stream",
     "text": [
      "Chocolates: []\n"
     ]
    }
   ],
   "source": [
    "chocolates.clear()\n",
    "print(\"Chocolates:\",chocolates)"
   ]
  },
  {
   "cell_type": "markdown",
   "metadata": {},
   "source": [
    "3. Five default functions of dictionary"
   ]
  },
  {
   "cell_type": "code",
   "execution_count": 12,
   "metadata": {},
   "outputs": [
    {
     "name": "stdout",
     "output_type": "stream",
     "text": [
      "{'Shruthi': 10, 'Kavi': 10, 'Janani': 10, 'Priya': 10}\n"
     ]
    }
   ],
   "source": [
    "Names={\"Kavi\",\"Priya\",\"Janani\",\"Shruthi\"}\n",
    "Class=10\n",
    "data=dict.fromkeys(Names,Class)\n",
    "print(data)"
   ]
  },
  {
   "cell_type": "code",
   "execution_count": 13,
   "metadata": {},
   "outputs": [
    {
     "data": {
      "text/plain": [
       "dict_values([95, 76])"
      ]
     },
     "execution_count": 13,
     "metadata": {},
     "output_type": "execute_result"
    }
   ],
   "source": [
    "data1={\"maths\":95,\"science\":76}\n",
    "dict.values(data1)"
   ]
  },
  {
   "cell_type": "code",
   "execution_count": 14,
   "metadata": {},
   "outputs": [
    {
     "name": "stdout",
     "output_type": "stream",
     "text": [
      "{'science': 76}\n"
     ]
    }
   ],
   "source": [
    "data1={\"maths\":95,\"science\":76}\n",
    "data1.pop(\"maths\")\n",
    "print(data1)"
   ]
  },
  {
   "cell_type": "code",
   "execution_count": 15,
   "metadata": {},
   "outputs": [
    {
     "name": "stdout",
     "output_type": "stream",
     "text": [
      "dict_items([('kavi', '23'), ('janani', '24'), ('shruthi', '23')])\n"
     ]
    }
   ],
   "source": [
    "data3={\"kavi\":\"23\",\"janani\":\"24\",\"shruthi\":\"23\"}\n",
    "result= data3.items()\n",
    "print(result) "
   ]
  },
  {
   "cell_type": "code",
   "execution_count": 16,
   "metadata": {},
   "outputs": [
    {
     "name": "stdout",
     "output_type": "stream",
     "text": [
      "{'kavi': '23', 'janani': '24', 'shruthi': '23', 'priya': '25', 'thara': '24'}\n"
     ]
    }
   ],
   "source": [
    "data3.update({\"priya\":\"25\",\"thara\":\"24\"})\n",
    "print(data3)"
   ]
  },
  {
   "cell_type": "code",
   "execution_count": null,
   "metadata": {},
   "outputs": [],
   "source": []
  }
 ],
 "metadata": {
  "kernelspec": {
   "display_name": "Python 3",
   "language": "python",
   "name": "python3"
  },
  "language_info": {
   "codemirror_mode": {
    "name": "ipython",
    "version": 3
   },
   "file_extension": ".py",
   "mimetype": "text/x-python",
   "name": "python",
   "nbconvert_exporter": "python",
   "pygments_lexer": "ipython3",
   "version": "3.7.4"
  }
 },
 "nbformat": 4,
 "nbformat_minor": 2
}
